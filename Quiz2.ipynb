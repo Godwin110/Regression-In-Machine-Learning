{
 "cells": [
  {
   "cell_type": "markdown",
   "metadata": {},
   "source": [
    "Question 12"
   ]
  },
  {
   "cell_type": "code",
   "execution_count": 86,
   "metadata": {},
   "outputs": [
    {
     "data": {
      "text/plain": [
       "0.64"
      ]
     },
     "execution_count": 86,
     "metadata": {},
     "output_type": "execute_result"
    }
   ],
   "source": [
    " import pandas as pd\n",
    "data=pd.read_csv(r'C:\\Users\\Odum Godwin\\Desktop\\energydata_complete.csv')\n",
    "import numpy as np\n",
    "from sklearn import metrics\n",
    "from sklearn.linear_model import LinearRegression\n",
    "from sklearn.metrics import r2_score\n",
    "#Setting target and regressor variables separate from dataframe\n",
    "part_data = data[[\"T2\", \"T6\"]]\n",
    "part_data\n",
    "#Setting target and regression variables up\n",
    "y = part_data[[\"T6\"]]\n",
    "x = part_data[[\"T2\"]]\n",
    "#Fitting simple Linear Regression Model\n",
    "linear_model = LinearRegression().fit(x,y)\n",
    "linear_model\n",
    "#Model Fitting Results\n",
    "linear_model.coef_\n",
    "linear_model.intercept_\n",
    "#variation explained\n",
    "R_squared=r2_score(y_true =part_data[[\"T6\"]],\n",
    "         y_pred = linear_model.predict(part_data[[\"T2\"]]))\n",
    "round(R_squared,2)"
   ]
  },
  {
   "cell_type": "markdown",
   "metadata": {},
   "source": [
    "Question 13"
   ]
  },
  {
   "cell_type": "code",
   "execution_count": 87,
   "metadata": {},
   "outputs": [
    {
     "name": "stdout",
     "output_type": "stream",
     "text": [
      "         Actual  Predicted\n",
      "8980   0.028037   0.034329\n",
      "2754   0.074766   0.190406\n",
      "9132   0.028037   0.038262\n",
      "14358  0.037383   0.093939\n",
      "8875   0.056075   0.025747\n",
      "...         ...        ...\n",
      "831    0.252336   0.080475\n",
      "10992  0.046729   0.074363\n",
      "11223  0.093458   0.097577\n",
      "14668  0.214953   0.212405\n",
      "16144  0.130841   0.130703\n",
      "\n",
      "[5921 rows x 2 columns]\n",
      "0.05\n"
     ]
    }
   ],
   "source": [
    " import pandas as pd\n",
    "df=pd.read_csv(r'C:\\Users\\Odum Godwin\\Desktop\\energydata_complete.csv')\n",
    "from sklearn.preprocessing import MinMaxScaler\n",
    "scaler=MinMaxScaler()\n",
    "normalised_df=pd.DataFrame(scaler.fit_transform(df),columns=df.columns)\n",
    "features_df=normalised_df.drop(columns=['Appliances'])\n",
    "heating_target=normalised_df['Appliances']\n",
    "#Now, we split our dataset into the training and testing dataset.Recall that we had\n",
    "#earlier segmented the features and target variables\n",
    "from sklearn.model_selection import train_test_split\n",
    "x_train,x_test,y_train,y_test=train_test_split(features_df,heating_target,test_size=0.3,\n",
    "                                              random_state=42)\n",
    "from sklearn.linear_model import LinearRegression\n",
    "linear_model=LinearRegression()\n",
    "#fit the model to the training dataset\n",
    "linear_model.fit(x_train,y_train)\n",
    "#obtain predictions\n",
    "predicted_values=linear_model.predict(x_test)\n",
    "#print(predicted_values)\n",
    "#Compare predictions to actual values\n",
    "data=pd.DataFrame({'Actual':y_test,'Predicted':predicted_values})\n",
    "print(data)\n",
    "#13. Mean Absolute Error\n",
    "from sklearn.metrics import mean_absolute_error\n",
    "MAE=mean_absolute_error(y_test,predicted_values)\n",
    "print(round(MAE,2))"
   ]
  },
  {
   "cell_type": "markdown",
   "metadata": {},
   "source": [
    "Question 14"
   ]
  },
  {
   "cell_type": "code",
   "execution_count": 88,
   "metadata": {},
   "outputs": [
    {
     "name": "stdout",
     "output_type": "stream",
     "text": [
      "45.55\n"
     ]
    }
   ],
   "source": [
    "#14. Residual Sum of Squares\n",
    "rss = np.sum(np.square(y_test - predicted_values))\n",
    "print(round(rss, 2 ))"
   ]
  },
  {
   "cell_type": "markdown",
   "metadata": {},
   "source": [
    "Question 15"
   ]
  },
  {
   "cell_type": "code",
   "execution_count": 89,
   "metadata": {},
   "outputs": [
    {
     "name": "stdout",
     "output_type": "stream",
     "text": [
      "0.088\n"
     ]
    }
   ],
   "source": [
    "#15. Residual Sum of Squares(RMSE)\n",
    "import numpy as np\n",
    "from sklearn.metrics import mean_squared_error\n",
    "RMSE=np.sqrt(mean_squared_error(y_test,predicted_values))\n",
    "print(round(RMSE,3))"
   ]
  },
  {
   "cell_type": "markdown",
   "metadata": {},
   "source": [
    "Question 16"
   ]
  },
  {
   "cell_type": "code",
   "execution_count": 90,
   "metadata": {},
   "outputs": [
    {
     "name": "stdout",
     "output_type": "stream",
     "text": [
      "0.17\n"
     ]
    }
   ],
   "source": [
    "#16. Coefficient of determination\n",
    "from sklearn.metrics import r2_score\n",
    "R_squared=r2_score(y_test,predicted_values)\n",
    "print(round(R_squared,2)) "
   ]
  },
  {
   "cell_type": "markdown",
   "metadata": {},
   "source": [
    "Question 17"
   ]
  },
  {
   "cell_type": "code",
   "execution_count": 91,
   "metadata": {},
   "outputs": [
    {
     "name": "stdout",
     "output_type": "stream",
     "text": [
      "       Features  Linear_Model_Weight  Ridge_Weight  Lasso_Weight\n",
      "0          RH_2            -0.428710     -0.377541     -0.000000\n",
      "1         T_out            -0.255613     -0.198731      0.000000\n",
      "2            T2            -0.229385     -0.190765      0.000000\n",
      "3          RH_8            -0.114397     -0.113128     -0.000000\n",
      "4            T9            -0.087854     -0.087451     -0.000000\n",
      "5          date            -0.055790     -0.057157     -0.000000\n",
      "6            T4            -0.045833     -0.046878     -0.000000\n",
      "7        RH_out            -0.044479     -0.023305     -0.047204\n",
      "8          RH_9            -0.041311     -0.042950     -0.000000\n",
      "9          RH_7            -0.034590     -0.036419     -0.000000\n",
      "10         RH_4            -0.023717     -0.025345      0.000000\n",
      "11           T5            -0.008678     -0.012727     -0.000000\n",
      "12           T1            -0.002505     -0.020000      0.000000\n",
      "13          rv1             0.000291      0.000302     -0.000000\n",
      "14          rv2             0.000291      0.000302     -0.000000\n",
      "15         RH_5             0.007747      0.007627      0.000000\n",
      "16         RH_6             0.009113      0.005926     -0.000000\n",
      "17   Visibility             0.009607      0.009384      0.000000\n",
      "18  Press_mm_hg             0.010878      0.010465     -0.000000\n",
      "19           T7             0.015216      0.015397     -0.000000\n",
      "20    Windspeed             0.017831      0.018698      0.000000\n",
      "21           T8             0.077798      0.076903      0.000000\n",
      "22    Tdewpoint             0.090825      0.059255      0.000000\n",
      "23         RH_3             0.093940      0.091807      0.000000\n",
      "24       lights             0.132593      0.133374      0.099359\n",
      "25           T6             0.229203      0.208880      0.002460\n",
      "26           T3             0.292860      0.290664      0.000000\n",
      "27         RH_1             0.504303      0.465575      0.002991\n"
     ]
    }
   ],
   "source": [
    "#17\n",
    "from sklearn.linear_model import Ridge\n",
    "ridge_reg=Ridge(alpha=0.5)\n",
    "ridge_reg.fit(x_train,y_train)\n",
    "from sklearn.linear_model import Lasso\n",
    "lasso_reg=Lasso(alpha=0.001)\n",
    "lasso_reg.fit(x_train,y_train)\n",
    "\n",
    "#comparing the effects of regularisation\n",
    "import pandas as pd\n",
    "def get_weights_df(model,feat,col_name):\n",
    "    #this function returns the weight of every feature\n",
    "    weights=pd.Series(model.coef_,feat.columns).sort_values()\n",
    "    weights_df=pd.DataFrame(weights).reset_index()\n",
    "    weights_df.columns=['Features',col_name]\n",
    "    weights_df[col_name].round(3)\n",
    "    return weights_df\n",
    "linear_model_weights=get_weights_df(linear_model,x_train,'Linear_Model_Weight')\n",
    "#print(linear_model_weights)\n",
    "ridge_weights_df=get_weights_df(ridge_reg,x_train,'Ridge_Weight')\n",
    "#print(ridge_weights_df)\n",
    "lasso_weights_df=get_weights_df(lasso_reg,x_train,'Lasso_Weight')\n",
    "#print(lasso_weights_df)\n",
    "\n",
    "final_weights=pd.merge(linear_model_weights,ridge_weights_df,on='Features')\n",
    "final_weights=pd.merge(final_weights,lasso_weights_df,on='Features')\n",
    "print(final_weights) "
   ]
  },
  {
   "cell_type": "markdown",
   "metadata": {},
   "source": [
    "Question 18"
   ]
  },
  {
   "cell_type": "code",
   "execution_count": 92,
   "metadata": {},
   "outputs": [
    {
     "name": "stdout",
     "output_type": "stream",
     "text": [
      "0.09\n"
     ]
    }
   ],
   "source": [
    "#18\n",
    "from sklearn.linear_model import Ridge\n",
    "ridge_reg=Ridge(alpha=0.4)\n",
    "ridge_reg.fit(x_train,y_train)\n",
    "import numpy as np\n",
    "from sklearn.metrics import mean_squared_error\n",
    "RMSE=np.sqrt(mean_squared_error(y_test,predicted_values))\n",
    "print(round(RMSE,2))"
   ]
  },
  {
   "cell_type": "markdown",
   "metadata": {},
   "source": [
    "Question 19"
   ]
  },
  {
   "cell_type": "code",
   "execution_count": 93,
   "metadata": {},
   "outputs": [
    {
     "name": "stdout",
     "output_type": "stream",
     "text": [
      "       Features  Linear_Model_Weight  Ridge_Weight  Lasso_Weight\n",
      "0          RH_2            -0.428710     -0.377541     -0.000000\n",
      "1         T_out            -0.255613     -0.198731      0.000000\n",
      "2            T2            -0.229385     -0.190765      0.000000\n",
      "3          RH_8            -0.114397     -0.113128     -0.000000\n",
      "4            T9            -0.087854     -0.087451     -0.000000\n",
      "5          date            -0.055790     -0.057157     -0.000000\n",
      "6            T4            -0.045833     -0.046878     -0.000000\n",
      "7        RH_out            -0.044479     -0.023305     -0.047204\n",
      "8          RH_9            -0.041311     -0.042950     -0.000000\n",
      "9          RH_7            -0.034590     -0.036419     -0.000000\n",
      "10         RH_4            -0.023717     -0.025345      0.000000\n",
      "11           T5            -0.008678     -0.012727     -0.000000\n",
      "12           T1            -0.002505     -0.020000      0.000000\n",
      "13          rv1             0.000291      0.000302     -0.000000\n",
      "14          rv2             0.000291      0.000302     -0.000000\n",
      "15         RH_5             0.007747      0.007627      0.000000\n",
      "16         RH_6             0.009113      0.005926     -0.000000\n",
      "17   Visibility             0.009607      0.009384      0.000000\n",
      "18  Press_mm_hg             0.010878      0.010465     -0.000000\n",
      "19           T7             0.015216      0.015397     -0.000000\n",
      "20    Windspeed             0.017831      0.018698      0.000000\n",
      "21           T8             0.077798      0.076903      0.000000\n",
      "22    Tdewpoint             0.090825      0.059255      0.000000\n",
      "23         RH_3             0.093940      0.091807      0.000000\n",
      "24       lights             0.132593      0.133374      0.099359\n",
      "25           T6             0.229203      0.208880      0.002460\n",
      "26           T3             0.292860      0.290664      0.000000\n",
      "27         RH_1             0.504303      0.465575      0.002991\n"
     ]
    }
   ],
   "source": [
    "#19\n",
    "from sklearn.linear_model import Ridge\n",
    "ridge_reg=Ridge(alpha=0.5)\n",
    "ridge_reg.fit(x_train,y_train)\n",
    "from sklearn.linear_model import Lasso\n",
    "lasso_reg=Lasso(alpha=0.001)\n",
    "lasso_reg.fit(x_train,y_train)\n",
    "\n",
    "#comparing the effects of regularisation\n",
    "import pandas as pd\n",
    "def get_weights_df(model,feat,col_name):\n",
    "    #this function returns the weight of every feature\n",
    "    weights=pd.Series(model.coef_,feat.columns).sort_values()\n",
    "    weights_df=pd.DataFrame(weights).reset_index()\n",
    "    weights_df.columns=['Features',col_name]\n",
    "    weights_df[col_name].round(3)\n",
    "    return weights_df\n",
    "linear_model_weights=get_weights_df(linear_model,x_train,'Linear_Model_Weight')\n",
    "#print(linear_model_weights)\n",
    "ridge_weights_df=get_weights_df(ridge_reg,x_train,'Ridge_Weight')\n",
    "#print(ridge_weights_df)\n",
    "lasso_weights_df=get_weights_df(lasso_reg,x_train,'Lasso_Weight')\n",
    "#print(lasso_weights_df)\n",
    "\n",
    "final_weights=pd.merge(linear_model_weights,ridge_weights_df,on='Features')\n",
    "final_weights=pd.merge(final_weights,lasso_weights_df,on='Features')\n",
    "print(final_weights) "
   ]
  },
  {
   "cell_type": "markdown",
   "metadata": {},
   "source": [
    "Question 20"
   ]
  },
  {
   "cell_type": "code",
   "execution_count": 95,
   "metadata": {},
   "outputs": [
    {
     "data": {
      "text/plain": [
       "0.088"
      ]
     },
     "execution_count": 95,
     "metadata": {},
     "output_type": "execute_result"
    }
   ],
   "source": [
    "#20\n",
    "import numpy as np\n",
    "from sklearn.metrics import mean_squared_error\n",
    "RMSE=np.sqrt(mean_squared_error(y_test,predicted_values))\n",
    "round(RMSE,3)"
   ]
  },
  {
   "cell_type": "code",
   "execution_count": null,
   "metadata": {},
   "outputs": [],
   "source": []
  }
 ],
 "metadata": {
  "kernelspec": {
   "display_name": "Python 3",
   "language": "python",
   "name": "python3"
  },
  "language_info": {
   "codemirror_mode": {
    "name": "ipython",
    "version": 3
   },
   "file_extension": ".py",
   "mimetype": "text/x-python",
   "name": "python",
   "nbconvert_exporter": "python",
   "pygments_lexer": "ipython3",
   "version": "3.8.5"
  }
 },
 "nbformat": 4,
 "nbformat_minor": 4
}
